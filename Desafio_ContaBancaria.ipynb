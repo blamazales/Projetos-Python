{
  "nbformat": 4,
  "nbformat_minor": 0,
  "metadata": {
    "colab": {
      "provenance": [],
      "authorship_tag": "ABX9TyMh1kfkTPulAfhFmS4KaX/J",
      "include_colab_link": true
    },
    "kernelspec": {
      "name": "python3",
      "display_name": "Python 3"
    },
    "language_info": {
      "name": "python"
    }
  },
  "cells": [
    {
      "cell_type": "markdown",
      "metadata": {
        "id": "view-in-github",
        "colab_type": "text"
      },
      "source": [
        "<a href=\"https://colab.research.google.com/github/blamazales/Projetos-Python/blob/main/Desafio_ContaBancaria.ipynb\" target=\"_parent\"><img src=\"https://colab.research.google.com/assets/colab-badge.svg\" alt=\"Open In Colab\"/></a>"
      ]
    },
    {
      "cell_type": "code",
      "execution_count": null,
      "metadata": {
        "id": "ELFVfRMJIts8"
      },
      "outputs": [],
      "source": [
        "#DESAFIO"
      ]
    },
    {
      "cell_type": "code",
      "source": [
        "# Saldo e transações\n",
        "valor_conta = 0\n",
        "depositos = []\n",
        "saques_diarios = 0\n",
        "extrato = []\n",
        "\n",
        "def exibir_menu():\n",
        "    print(\"\\nMenu da Conta Bancária:\")\n",
        "    print(\"1. Saque\")\n",
        "    print(\"2. Depósito\")\n",
        "    print(\"3. Extrato\")\n",
        "    print(\"4. Sair do programa\")\n",
        "\n",
        "def realizar_saque():\n",
        "    global valor_conta, saques_diarios\n",
        "    if saques_diarios >= 3:\n",
        "        print(\"Limite de 3 saques diários atingido.\")\n",
        "        return\n",
        "\n",
        "    try:\n",
        "        valor = float(input(\"Digite o valor do saque (até R$500,00): \"))\n",
        "        if valor > 500:\n",
        "            print(\"O valor do saque não pode exceder R$500,00.\")\n",
        "        elif valor > valor_conta:\n",
        "            print(\"Saldo insuficiente.\")\n",
        "        elif valor > 0:\n",
        "            valor_conta -= valor\n",
        "            extrato.append(f\"Saque de R${valor:.2f}\")\n",
        "            saques_diarios += 1\n",
        "            print(f\"Saque de R${valor:.2f} realizado com sucesso. Saldo atual: R${valor_conta:.2f}\")\n",
        "        else:\n",
        "            print(\"O valor do saque deve ser positivo.\")\n",
        "    except ValueError:\n",
        "        print(\"Por favor, insira um valor numérico válido.\")\n",
        "\n",
        "def realizar_deposito():\n",
        "    global valor_conta\n",
        "    try:\n",
        "        valor = float(input(\"Digite o valor do depósito: \"))\n",
        "        if valor > 0:\n",
        "            valor_conta += valor\n",
        "            depositos.append(valor)\n",
        "            print(f\"Depósito de R${valor:.2f} realizado com sucesso. Saldo atual: R${valor_conta:.2f}\")\n",
        "        else:\n",
        "            print(\"O valor do depósito deve ser positivo.\")\n",
        "    except ValueError:\n",
        "        print(\"Por favor, insira um valor numérico válido.\")\n",
        "\n",
        "def visualizar_extrato():\n",
        "    print(\"\\nExtrato da Conta Bancária:\")\n",
        "\n",
        "    # Exibir depósitos\n",
        "    if depositos:\n",
        "        print(\"Depósitos:\")\n",
        "        for i, deposito in enumerate(depositos, start=1):\n",
        "            print(f\"{i}. R${deposito:.2f}\")\n",
        "    else:\n",
        "        print(\"Nenhum depósito realizado.\")\n",
        "\n",
        "    # Exibir saques\n",
        "    if extrato:\n",
        "        print(\"\\nSaques:\")\n",
        "        for i, saque in enumerate(extrato, start=1):\n",
        "            print(f\"{i}. {saque}\")\n",
        "    else:\n",
        "        print(\"Nenhum saque realizado.\")\n",
        "\n",
        "    print(f\"\\nSaldo atual: R${valor_conta:.2f}\")\n",
        "\n",
        "# Loop principal\n",
        "while True:\n",
        "    exibir_menu()\n",
        "    opcao = input(\"Escolha uma opção (1-4): \")\n",
        "\n",
        "    if opcao == '1':\n",
        "        realizar_saque()\n",
        "    elif opcao == '2':\n",
        "        realizar_deposito()\n",
        "    elif opcao == '3':\n",
        "        visualizar_extrato()\n",
        "    elif opcao == '4':\n",
        "        print(\"Encerrando o programa. Até mais tarde!\")\n",
        "        break\n",
        "    else:\n",
        "        print(\"Opção inválida. Por favor, escolha uma opção entre 1 e 4.\")\n"
      ],
      "metadata": {
        "id": "YYxkJ2HKIvdv"
      },
      "execution_count": null,
      "outputs": []
    }
  ]
}